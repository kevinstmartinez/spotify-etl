{
 "cells": [
  {
   "cell_type": "code",
   "execution_count": 391,
   "id": "38077a8f-0275-49e3-961c-aa01e70e42fa",
   "metadata": {
    "tags": []
   },
   "outputs": [],
   "source": [
    "from pyspark import SparkContext\n",
    "from pyspark.sql import SparkSession\n",
    "from pyspark.sql.types import StructType, StructField, IntegerType, StringType, FloatType, Row, ArrayType\n",
    "from pyspark.sql import SQLContext\n",
    "from pyspark.sql.functions import from_json, explode, col, udf\n",
    "from pyspark.sql import functions as F\n",
    "import requests\n",
    "import os\n",
    "import spotipy\n",
    "from spotipy.oauth2 import SpotifyClientCredentials, SpotifyOAuth\n",
    "from dotenv import load_dotenv\n",
    "from datetime import datetime\n",
    "import datetime\n",
    "import json\n"
   ]
  },
  {
   "cell_type": "code",
   "execution_count": 4,
   "id": "e66980bb-439b-4db6-974b-2ba4c5c33756",
   "metadata": {
    "tags": []
   },
   "outputs": [
    {
     "name": "stderr",
     "output_type": "stream",
     "text": [
      "/usr/local/spark/python/pyspark/sql/context.py:112: FutureWarning: Deprecated in 3.0.0. Use SparkSession.builder.getOrCreate() instead.\n",
      "  warnings.warn(\n"
     ]
    }
   ],
   "source": [
    "spark = SparkSession.builder\\\n",
    ".master('local')\\\n",
    ".appName('SportifyTracks')\\\n",
    ".getOrCreate()\n",
    "sql_context = SQLContext(spark)"
   ]
  },
  {
   "cell_type": "code",
   "execution_count": 268,
   "id": "07c988b5-1a9d-4b16-b3ec-aeb3c7faab86",
   "metadata": {
    "tags": []
   },
   "outputs": [],
   "source": [
    "spark.stop()"
   ]
  },
  {
   "cell_type": "code",
   "execution_count": 269,
   "id": "437e4837-69de-4df0-8b18-d91c6778ec49",
   "metadata": {
    "tags": []
   },
   "outputs": [],
   "source": [
    "sc = SparkContext(master=\"local\", appName=\"spotify-etl\")"
   ]
  },
  {
   "cell_type": "code",
   "execution_count": null,
   "id": "01f614b4-2c23-409b-ac44-f1b366cca4bb",
   "metadata": {
    "tags": []
   },
   "outputs": [
    {
     "data": {
      "text/html": [
       "\n",
       "        <div>\n",
       "            <p><b>SparkContext</b></p>\n",
       "\n",
       "            <p><a href=\"http://96ab9d074b5c:4040\">Spark UI</a></p>\n",
       "\n",
       "            <dl>\n",
       "              <dt>Version</dt>\n",
       "                <dd><code>v3.3.2</code></dd>\n",
       "              <dt>Master</dt>\n",
       "                <dd><code>local</code></dd>\n",
       "              <dt>AppName</dt>\n",
       "                <dd><code>spotify-etl</code></dd>\n",
       "            </dl>\n",
       "        </div>\n",
       "        "
      ],
      "text/plain": [
       "<SparkContext master=local appName=spotify-etl>"
      ]
     },
     "execution_count": 270,
     "metadata": {},
     "output_type": "execute_result"
    }
   ],
   "source": [
    "sc"
   ]
  },
  {
   "cell_type": "code",
   "execution_count": 389,
   "id": "b74f84ae-7e29-4e0e-97fa-5637bf3d0c31",
   "metadata": {
    "tags": []
   },
   "outputs": [],
   "source": [
    "def convert_date(date):\n",
    "    dt = date.split('T')[0]\n",
    "    return dt"
   ]
  },
  {
   "cell_type": "code",
   "execution_count": 344,
   "id": "89fa16ce-3234-4080-b945-31ddbe60c897",
   "metadata": {
    "tags": []
   },
   "outputs": [],
   "source": [
    "def extract():\n",
    "    df = spark.read.json('./tracks.json', multiLine=True)\n",
    "    return df\n",
    "\n",
    "\n",
    "def transform(df):\n",
    "    dataframe = df.withColumn('col', explode('items'))\\\n",
    "    .withColumn('track_name', col('col.track.name'))\\\n",
    "    .withColumn('col2', explode('col.track.artists'))\\\n",
    "    .withColumn('artist', col('col2.name'))\\\n",
    "    .withColumn('played_at', col('col.played_at'))\\\n",
    "    .drop('cursors', 'href', 'limit', 'next', 'items', 'col','col2')\n",
    "    return dataframe"
   ]
  },
  {
   "cell_type": "code",
   "execution_count": 343,
   "id": "d40a72bf-4028-4e0f-8a9b-87e4342ab369",
   "metadata": {
    "tags": []
   },
   "outputs": [
    {
     "name": "stdout",
     "output_type": "stream",
     "text": [
      "root\n",
      " |-- cursors: struct (nullable = true)\n",
      " |    |-- after: string (nullable = true)\n",
      " |    |-- before: string (nullable = true)\n",
      " |-- href: string (nullable = true)\n",
      " |-- items: array (nullable = true)\n",
      " |    |-- element: struct (containsNull = true)\n",
      " |    |    |-- context: struct (nullable = true)\n",
      " |    |    |    |-- external_urls: struct (nullable = true)\n",
      " |    |    |    |    |-- spotify: string (nullable = true)\n",
      " |    |    |    |-- href: string (nullable = true)\n",
      " |    |    |    |-- type: string (nullable = true)\n",
      " |    |    |    |-- uri: string (nullable = true)\n",
      " |    |    |-- played_at: string (nullable = true)\n",
      " |    |    |-- track: struct (nullable = true)\n",
      " |    |    |    |-- album: struct (nullable = true)\n",
      " |    |    |    |    |-- album_group: string (nullable = true)\n",
      " |    |    |    |    |-- album_type: string (nullable = true)\n",
      " |    |    |    |    |-- artists: array (nullable = true)\n",
      " |    |    |    |    |    |-- element: struct (containsNull = true)\n",
      " |    |    |    |    |    |    |-- external_urls: struct (nullable = true)\n",
      " |    |    |    |    |    |    |    |-- spotify: string (nullable = true)\n",
      " |    |    |    |    |    |    |-- href: string (nullable = true)\n",
      " |    |    |    |    |    |    |-- id: string (nullable = true)\n",
      " |    |    |    |    |    |    |-- name: string (nullable = true)\n",
      " |    |    |    |    |    |    |-- type: string (nullable = true)\n",
      " |    |    |    |    |    |    |-- uri: string (nullable = true)\n",
      " |    |    |    |    |-- available_markets: array (nullable = true)\n",
      " |    |    |    |    |    |-- element: string (containsNull = true)\n",
      " |    |    |    |    |-- external_urls: struct (nullable = true)\n",
      " |    |    |    |    |    |-- spotify: string (nullable = true)\n",
      " |    |    |    |    |-- href: string (nullable = true)\n",
      " |    |    |    |    |-- id: string (nullable = true)\n",
      " |    |    |    |    |-- images: array (nullable = true)\n",
      " |    |    |    |    |    |-- element: struct (containsNull = true)\n",
      " |    |    |    |    |    |    |-- height: long (nullable = true)\n",
      " |    |    |    |    |    |    |-- url: string (nullable = true)\n",
      " |    |    |    |    |    |    |-- width: long (nullable = true)\n",
      " |    |    |    |    |-- name: string (nullable = true)\n",
      " |    |    |    |    |-- release_date: string (nullable = true)\n",
      " |    |    |    |    |-- release_date_precision: string (nullable = true)\n",
      " |    |    |    |    |-- total_tracks: long (nullable = true)\n",
      " |    |    |    |    |-- type: string (nullable = true)\n",
      " |    |    |    |    |-- uri: string (nullable = true)\n",
      " |    |    |    |-- artists: array (nullable = true)\n",
      " |    |    |    |    |-- element: struct (containsNull = true)\n",
      " |    |    |    |    |    |-- external_urls: struct (nullable = true)\n",
      " |    |    |    |    |    |    |-- spotify: string (nullable = true)\n",
      " |    |    |    |    |    |-- href: string (nullable = true)\n",
      " |    |    |    |    |    |-- id: string (nullable = true)\n",
      " |    |    |    |    |    |-- name: string (nullable = true)\n",
      " |    |    |    |    |    |-- type: string (nullable = true)\n",
      " |    |    |    |    |    |-- uri: string (nullable = true)\n",
      " |    |    |    |-- available_markets: array (nullable = true)\n",
      " |    |    |    |    |-- element: string (containsNull = true)\n",
      " |    |    |    |-- disc_number: long (nullable = true)\n",
      " |    |    |    |-- duration_ms: long (nullable = true)\n",
      " |    |    |    |-- explicit: boolean (nullable = true)\n",
      " |    |    |    |-- external_ids: struct (nullable = true)\n",
      " |    |    |    |    |-- isrc: string (nullable = true)\n",
      " |    |    |    |-- external_urls: struct (nullable = true)\n",
      " |    |    |    |    |-- spotify: string (nullable = true)\n",
      " |    |    |    |-- href: string (nullable = true)\n",
      " |    |    |    |-- id: string (nullable = true)\n",
      " |    |    |    |-- is_local: boolean (nullable = true)\n",
      " |    |    |    |-- name: string (nullable = true)\n",
      " |    |    |    |-- popularity: long (nullable = true)\n",
      " |    |    |    |-- preview_url: string (nullable = true)\n",
      " |    |    |    |-- track_number: long (nullable = true)\n",
      " |    |    |    |-- type: string (nullable = true)\n",
      " |    |    |    |-- uri: string (nullable = true)\n",
      " |-- limit: long (nullable = true)\n",
      " |-- next: string (nullable = true)\n",
      "\n"
     ]
    }
   ],
   "source": [
    "df = extract()\n",
    "df.printSchema()"
   ]
  },
  {
   "cell_type": "code",
   "execution_count": 396,
   "id": "46fa4576-16f1-44db-8e99-39b88acf5e4b",
   "metadata": {
    "tags": []
   },
   "outputs": [
    {
     "name": "stdout",
     "output_type": "stream",
     "text": [
      "+---------------------------------------------------------------+-----------------------+----------+\n",
      "|track_name                                                     |artist                 |played_at |\n",
      "+---------------------------------------------------------------+-----------------------+----------+\n",
      "|Diles                                                          |Bad Bunny              |2023-04-01|\n",
      "|Un Polvo (feat. Bad Bunny, Arcángel, Ñengo Flow & De La Ghetto)|Maluma                 |2023-04-01|\n",
      "|Sacala                                                         |Daddy Yankee           |2023-04-01|\n",
      "|El Telefono                                                    |Héctor \"El Father\"     |2023-04-01|\n",
      "|The Bitter End                                                 |Placebo                |2023-04-04|\n",
      "|A Prophecy                                                     |Asking Alexandria      |2023-04-04|\n",
      "|You Only Live Once                                             |Suicide Silence        |2023-04-04|\n",
      "|Immaculate Misconception                                       |Motionless In White    |2023-04-04|\n",
      "|The Final Episode (Let's Change the Channel)                   |Asking Alexandria      |2023-04-04|\n",
      "|Scream Aim Fire                                                |Bullet For My Valentine|2023-04-04|\n",
      "|Vermilion                                                      |Slipknot               |2023-04-04|\n",
      "|Be Quiet and Drive (Far Away)                                  |Deftones               |2023-04-04|\n",
      "|My Apocalypse                                                  |Escape the Fate        |2023-04-04|\n",
      "|Not The American Average                                       |Asking Alexandria      |2023-04-04|\n",
      "|My Own Summer (Shove It)                                       |Deftones               |2023-04-04|\n",
      "|Waking the Demon                                               |Bullet For My Valentine|2023-04-04|\n",
      "|Hand Of Blood                                                  |Bullet For My Valentine|2023-04-04|\n",
      "+---------------------------------------------------------------+-----------------------+----------+\n",
      "\n"
     ]
    }
   ],
   "source": [
    "convert_date_udf = udf(lambda z : convert_date(z), StringType())\n",
    "sql_context.udf.register('convertGender', convert_date_udf)\n",
    "df_transformed.dropDuplicates(['track_name']).sort('played_at').select('track_name', 'artist', convert_date_udf('played_at').alias('played_at')).show(truncate=False)"
   ]
  }
 ],
 "metadata": {
  "kernelspec": {
   "display_name": "Python 3 (ipykernel)",
   "language": "python",
   "name": "python3"
  },
  "language_info": {
   "codemirror_mode": {
    "name": "ipython",
    "version": 3
   },
   "file_extension": ".py",
   "mimetype": "text/x-python",
   "name": "python",
   "nbconvert_exporter": "python",
   "pygments_lexer": "ipython3",
   "version": "3.10.9"
  }
 },
 "nbformat": 4,
 "nbformat_minor": 5
}
